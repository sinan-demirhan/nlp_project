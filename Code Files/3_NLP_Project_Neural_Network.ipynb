{
 "cells": [
  {
   "cell_type": "code",
   "execution_count": 1,
   "metadata": {
    "id": "FnnFF3_7Fa2N"
   },
   "outputs": [],
   "source": [
    "import pandas as pd\n",
    "from sklearn.feature_extraction.text import CountVectorizer\n",
    "from sklearn.model_selection import train_test_split, StratifiedShuffleSplit\n",
    "\n",
    "from sklearn.preprocessing import LabelEncoder\n",
    "from tensorflow.keras.models import Sequential\n",
    "from tensorflow.keras.layers import Dense, Dropout, Activation\n",
    "from tensorflow.keras.callbacks import ModelCheckpoint\n",
    "from keras.layers import BatchNormalization\n",
    "from keras.preprocessing import text\n",
    "from keras import utils, callbacks\n",
    "\n",
    "import numpy as np\n",
    "\n"
   ]
  },
  {
   "cell_type": "code",
   "execution_count": 2,
   "metadata": {
    "colab": {
     "base_uri": "https://localhost:8080/"
    },
    "id": "jWci-5HMFa0P",
    "outputId": "0eec5b3c-c294-46b8-e237-60dd8c599028"
   },
   "outputs": [
    {
     "name": "stdout",
     "output_type": "stream",
     "text": [
      "Mounted at /content/drive\n"
     ]
    }
   ],
   "source": [
    "from google.colab import drive\n",
    "drive.mount('/content/drive')"
   ]
  },
  {
   "cell_type": "code",
   "execution_count": 9,
   "metadata": {
    "id": "LQucWwzSFayL"
   },
   "outputs": [],
   "source": [
    "df = pd.read_csv('drive/MyDrive/PJAIT/ZUM/Twitter_Clustered_Data.csv')"
   ]
  },
  {
   "cell_type": "markdown",
   "metadata": {
    "id": "c-mK73ePFxQs"
   },
   "source": [
    "# ETAP 3: NEURAL MODEL"
   ]
  },
  {
   "cell_type": "code",
   "execution_count": 4,
   "metadata": {
    "id": "WiUIqlrOFawG"
   },
   "outputs": [],
   "source": [
    "my_data = df.copy()\n",
    "\n",
    "my_data['Cluster'] = my_data['Cluster'].astype('category')\n",
    "#my_data[\"Id\"] = my_data['Cluster'].cat.codes\n"
   ]
  },
  {
   "cell_type": "markdown",
   "metadata": {
    "id": "xDu5FqTfF3h-"
   },
   "source": [
    "## Since the neural model will last so long I will use just the 50K row of the data"
   ]
  },
  {
   "cell_type": "code",
   "execution_count": 5,
   "metadata": {
    "id": "vQN2Vr7nFauB"
   },
   "outputs": [],
   "source": [
    "my_data = my_data.sample(50000).reset_index(drop=True)"
   ]
  },
  {
   "cell_type": "code",
   "execution_count": 6,
   "metadata": {
    "id": "4bHIU8-zFar0"
   },
   "outputs": [],
   "source": [
    "sss = StratifiedShuffleSplit(n_splits=1, test_size=0.4, random_state=1)\n",
    "data = my_data['tweet']\n",
    "target = my_data['Cluster']\n",
    "for train_index, test_index in sss.split(data, target):\n",
    "    train_narrative, test_narrative = data[train_index], data[test_index]\n",
    "    train_product, test_product = target[train_index], target[test_index]"
   ]
  },
  {
   "cell_type": "code",
   "execution_count": 7,
   "metadata": {
    "id": "kxFqihI5Fapu"
   },
   "outputs": [],
   "source": [
    "def model_creation(word_count, layer_count, drop_rate):\n",
    "    max_words = word_count\n",
    "    tokenize = text.Tokenizer(num_words=max_words, char_level=False)\n",
    "    tokenize.fit_on_texts(train_narrative) # only fit on train\n",
    "    x_train = tokenize.texts_to_matrix(train_narrative)\n",
    "    x_test = tokenize.texts_to_matrix(test_narrative)\n",
    "  \n",
    "    encoder = LabelEncoder()\n",
    "    encoder.fit(train_product)\n",
    "    y_train = encoder.transform(train_product)\n",
    "    y_test = encoder.transform(test_product)\n",
    "  \n",
    "    num_classes = np.max(y_train) + 1\n",
    "    y_train = utils.to_categorical(y_train, num_classes)\n",
    "    y_test = utils.to_categorical(y_test, num_classes)\n",
    "  \n",
    "    #MODELLING\n",
    "    model = Sequential()\n",
    "    model.add(Dense(layer_count, input_shape=(max_words,)))\n",
    "    model.add(BatchNormalization())\n",
    "    model.add(Activation('relu'))\n",
    "    model.add(Dropout(drop_rate))\n",
    "  \n",
    "    model.add(Dense(layer_count))\n",
    "    model.add(BatchNormalization())\n",
    "    model.add(Activation('relu'))\n",
    "    model.add(Dropout(drop_rate))\n",
    "  \n",
    "    model.add(Dense(layer_count))\n",
    "    model.add(BatchNormalization())\n",
    "    model.add(Activation('relu'))\n",
    "    model.add(Dropout(drop_rate))\n",
    "  \n",
    "    model.add(Dense(num_classes))\n",
    "    model.add(Activation('softmax'))\n",
    "  \n",
    "    my_callbacks = [\n",
    "        callbacks.ModelCheckpoint(f\"model_{str(word_count)}_{str(layer_count)}.keras\", save_best_only=True)\n",
    "    ]\n",
    "    my_callbacks.append(callbacks.EarlyStopping(monitor='val_loss', patience=2))\n",
    "  \n",
    "    model.compile(loss='categorical_crossentropy',\n",
    "                  optimizer='adam',\n",
    "                  metrics=['accuracy'])\n",
    "    history = model.fit(x_train, y_train, batch_size=64, epochs=10, verbose=0, validation_split=0.1, callbacks=my_callbacks)\n",
    "    score = model.evaluate(x_test, y_test, batch_size=64, verbose=1)\n",
    "    return score"
   ]
  },
  {
   "cell_type": "code",
   "execution_count": 8,
   "metadata": {
    "colab": {
     "base_uri": "https://localhost:8080/"
    },
    "id": "9IhCXqc3Fanr",
    "outputId": "e4e10943-3920-43bf-bd4c-d397ec87a7a8"
   },
   "outputs": [
    {
     "name": "stdout",
     "output_type": "stream",
     "text": [
      "313/313 [==============================] - 1s 3ms/step - loss: 0.1346 - accuracy: 0.9457\n",
      "word_count = 2000, layer_count = 64\n",
      "0.9456999897956848\n",
      "313/313 [==============================] - 2s 6ms/step - loss: 0.1494 - accuracy: 0.9446\n",
      "word_count = 2000, layer_count = 256\n",
      "0.944599986076355\n",
      "313/313 [==============================] - 2s 5ms/step - loss: 0.1575 - accuracy: 0.9388\n",
      "word_count = 5000, layer_count = 64\n",
      "0.9387999773025513\n",
      "313/313 [==============================] - 2s 8ms/step - loss: 0.1664 - accuracy: 0.9377\n",
      "word_count = 5000, layer_count = 256\n",
      "0.9376999735832214\n"
     ]
    }
   ],
   "source": [
    "my_optimality_data = pd.DataFrame()\n",
    "for word_count in [2000, 5000]:\n",
    "    for layer_count in [64, 256]:\n",
    "        score = model_creation(word_count,layer_count,0.5)\n",
    "        print(f\"word_count = {word_count}, layer_count = {layer_count}\")\n",
    "        print(score[1])\n",
    "        my_optimality_data = pd.concat([my_optimality_data, pd.DataFrame( {\"max_word\":[word_count],\"layer_count\":[layer_count],\"drop_rate\":[0.5], \"ACCURACY\":[score[1]]})])"
   ]
  },
  {
   "cell_type": "code",
   "execution_count": 10,
   "metadata": {
    "colab": {
     "base_uri": "https://localhost:8080/",
     "height": 175
    },
    "id": "UwcZckrOFalU",
    "outputId": "d8d9a2f8-6613-46d9-c72c-c08cb94ca6fd"
   },
   "outputs": [
    {
     "data": {
      "text/html": [
       "\n",
       "  <div id=\"df-185a9bc3-41da-4455-98aa-9e4e6bcc6c68\">\n",
       "    <div class=\"colab-df-container\">\n",
       "      <div>\n",
       "<style scoped>\n",
       "    .dataframe tbody tr th:only-of-type {\n",
       "        vertical-align: middle;\n",
       "    }\n",
       "\n",
       "    .dataframe tbody tr th {\n",
       "        vertical-align: top;\n",
       "    }\n",
       "\n",
       "    .dataframe thead th {\n",
       "        text-align: right;\n",
       "    }\n",
       "</style>\n",
       "<table border=\"1\" class=\"dataframe\">\n",
       "  <thead>\n",
       "    <tr style=\"text-align: right;\">\n",
       "      <th></th>\n",
       "      <th>max_word</th>\n",
       "      <th>layer_count</th>\n",
       "      <th>drop_rate</th>\n",
       "      <th>ACCURACY</th>\n",
       "    </tr>\n",
       "  </thead>\n",
       "  <tbody>\n",
       "    <tr>\n",
       "      <th>0</th>\n",
       "      <td>2000</td>\n",
       "      <td>64</td>\n",
       "      <td>0.5</td>\n",
       "      <td>0.9457</td>\n",
       "    </tr>\n",
       "    <tr>\n",
       "      <th>0</th>\n",
       "      <td>2000</td>\n",
       "      <td>256</td>\n",
       "      <td>0.5</td>\n",
       "      <td>0.9446</td>\n",
       "    </tr>\n",
       "    <tr>\n",
       "      <th>0</th>\n",
       "      <td>5000</td>\n",
       "      <td>64</td>\n",
       "      <td>0.5</td>\n",
       "      <td>0.9388</td>\n",
       "    </tr>\n",
       "    <tr>\n",
       "      <th>0</th>\n",
       "      <td>5000</td>\n",
       "      <td>256</td>\n",
       "      <td>0.5</td>\n",
       "      <td>0.9377</td>\n",
       "    </tr>\n",
       "  </tbody>\n",
       "</table>\n",
       "</div>\n",
       "      <button class=\"colab-df-convert\" onclick=\"convertToInteractive('df-185a9bc3-41da-4455-98aa-9e4e6bcc6c68')\"\n",
       "              title=\"Convert this dataframe to an interactive table.\"\n",
       "              style=\"display:none;\">\n",
       "        \n",
       "  <svg xmlns=\"http://www.w3.org/2000/svg\" height=\"24px\"viewBox=\"0 0 24 24\"\n",
       "       width=\"24px\">\n",
       "    <path d=\"M0 0h24v24H0V0z\" fill=\"none\"/>\n",
       "    <path d=\"M18.56 5.44l.94 2.06.94-2.06 2.06-.94-2.06-.94-.94-2.06-.94 2.06-2.06.94zm-11 1L8.5 8.5l.94-2.06 2.06-.94-2.06-.94L8.5 2.5l-.94 2.06-2.06.94zm10 10l.94 2.06.94-2.06 2.06-.94-2.06-.94-.94-2.06-.94 2.06-2.06.94z\"/><path d=\"M17.41 7.96l-1.37-1.37c-.4-.4-.92-.59-1.43-.59-.52 0-1.04.2-1.43.59L10.3 9.45l-7.72 7.72c-.78.78-.78 2.05 0 2.83L4 21.41c.39.39.9.59 1.41.59.51 0 1.02-.2 1.41-.59l7.78-7.78 2.81-2.81c.8-.78.8-2.07 0-2.86zM5.41 20L4 18.59l7.72-7.72 1.47 1.35L5.41 20z\"/>\n",
       "  </svg>\n",
       "      </button>\n",
       "      \n",
       "  <style>\n",
       "    .colab-df-container {\n",
       "      display:flex;\n",
       "      flex-wrap:wrap;\n",
       "      gap: 12px;\n",
       "    }\n",
       "\n",
       "    .colab-df-convert {\n",
       "      background-color: #E8F0FE;\n",
       "      border: none;\n",
       "      border-radius: 50%;\n",
       "      cursor: pointer;\n",
       "      display: none;\n",
       "      fill: #1967D2;\n",
       "      height: 32px;\n",
       "      padding: 0 0 0 0;\n",
       "      width: 32px;\n",
       "    }\n",
       "\n",
       "    .colab-df-convert:hover {\n",
       "      background-color: #E2EBFA;\n",
       "      box-shadow: 0px 1px 2px rgba(60, 64, 67, 0.3), 0px 1px 3px 1px rgba(60, 64, 67, 0.15);\n",
       "      fill: #174EA6;\n",
       "    }\n",
       "\n",
       "    [theme=dark] .colab-df-convert {\n",
       "      background-color: #3B4455;\n",
       "      fill: #D2E3FC;\n",
       "    }\n",
       "\n",
       "    [theme=dark] .colab-df-convert:hover {\n",
       "      background-color: #434B5C;\n",
       "      box-shadow: 0px 1px 3px 1px rgba(0, 0, 0, 0.15);\n",
       "      filter: drop-shadow(0px 1px 2px rgba(0, 0, 0, 0.3));\n",
       "      fill: #FFFFFF;\n",
       "    }\n",
       "  </style>\n",
       "\n",
       "      <script>\n",
       "        const buttonEl =\n",
       "          document.querySelector('#df-185a9bc3-41da-4455-98aa-9e4e6bcc6c68 button.colab-df-convert');\n",
       "        buttonEl.style.display =\n",
       "          google.colab.kernel.accessAllowed ? 'block' : 'none';\n",
       "\n",
       "        async function convertToInteractive(key) {\n",
       "          const element = document.querySelector('#df-185a9bc3-41da-4455-98aa-9e4e6bcc6c68');\n",
       "          const dataTable =\n",
       "            await google.colab.kernel.invokeFunction('convertToInteractive',\n",
       "                                                     [key], {});\n",
       "          if (!dataTable) return;\n",
       "\n",
       "          const docLinkHtml = 'Like what you see? Visit the ' +\n",
       "            '<a target=\"_blank\" href=https://colab.research.google.com/notebooks/data_table.ipynb>data table notebook</a>'\n",
       "            + ' to learn more about interactive tables.';\n",
       "          element.innerHTML = '';\n",
       "          dataTable['output_type'] = 'display_data';\n",
       "          await google.colab.output.renderOutput(dataTable, element);\n",
       "          const docLink = document.createElement('div');\n",
       "          docLink.innerHTML = docLinkHtml;\n",
       "          element.appendChild(docLink);\n",
       "        }\n",
       "      </script>\n",
       "    </div>\n",
       "  </div>\n",
       "  "
      ],
      "text/plain": [
       "   max_word  layer_count  drop_rate  ACCURACY\n",
       "0      2000           64        0.5    0.9457\n",
       "0      2000          256        0.5    0.9446\n",
       "0      5000           64        0.5    0.9388\n",
       "0      5000          256        0.5    0.9377"
      ]
     },
     "execution_count": 10,
     "metadata": {},
     "output_type": "execute_result"
    }
   ],
   "source": [
    "my_optimality_data"
   ]
  },
  {
   "cell_type": "markdown",
   "metadata": {
    "id": "6_jGFC4_IV5K"
   },
   "source": [
    "## We see that 2000 max word and 64 layer count gives the best model for our data."
   ]
  },
  {
   "cell_type": "code",
   "execution_count": null,
   "metadata": {
    "id": "OpDzBufNFajP"
   },
   "outputs": [],
   "source": []
  },
  {
   "cell_type": "code",
   "execution_count": null,
   "metadata": {
    "id": "C65uKpipFag4"
   },
   "outputs": [],
   "source": []
  },
  {
   "cell_type": "code",
   "execution_count": null,
   "metadata": {
    "id": "gx62AJ0CFaez"
   },
   "outputs": [],
   "source": []
  }
 ],
 "metadata": {
  "colab": {
   "provenance": []
  },
  "kernelspec": {
   "display_name": "Python 3 (ipykernel)",
   "language": "python",
   "name": "python3"
  },
  "language_info": {
   "codemirror_mode": {
    "name": "ipython",
    "version": 3
   },
   "file_extension": ".py",
   "mimetype": "text/x-python",
   "name": "python",
   "nbconvert_exporter": "python",
   "pygments_lexer": "ipython3",
   "version": "3.9.6"
  }
 },
 "nbformat": 4,
 "nbformat_minor": 1
}
